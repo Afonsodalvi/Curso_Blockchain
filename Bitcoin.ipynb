{
 "cells": [
  {
   "cell_type": "code",
   "execution_count": 1,
   "metadata": {},
   "outputs": [],
   "source": [
    "from pycoin.key import Key\n",
    "from pycoin.key.validate import is_address_valid, is_wif_valid\n",
    "from pycoin.services import spendables_for_address\n",
    "from pycoin.tx.tx_utils import create_signed_tx"
   ]
  },
  {
   "cell_type": "markdown",
   "metadata": {},
   "source": [
    "# Interagindo com a tecnologia da Bitcoin\n",
    "\n",
    "Neste notebook vamos utilizar algumas ferramentas já disponíveis na linguagem Python para explorar o funcionamento da Bitcoin. Certifique-se de estar usando pelo menos a versão 3.5 do Python antes de começar. Os pacotes Python necessários estão listados no arquivo `requirements.txt` na raiz deste repositório. Para instalá-los basta executar o seguinte comando:\n",
    "```\n",
    "pip3 install -r requirements.txt\n",
    "```"
   ]
  },
  {
   "cell_type": "code",
   "execution_count": null,
   "metadata": {
    "collapsed": true
   },
   "outputs": [],
   "source": []
  }
 ],
 "metadata": {
  "kernelspec": {
   "display_name": "Python 3",
   "language": "python",
   "name": "python3"
  },
  "language_info": {
   "codemirror_mode": {
    "name": "ipython",
    "version": 3
   },
   "file_extension": ".py",
   "mimetype": "text/x-python",
   "name": "python",
   "nbconvert_exporter": "python",
   "pygments_lexer": "ipython3",
   "version": "3.5.3"
  }
 },
 "nbformat": 4,
 "nbformat_minor": 2
}
