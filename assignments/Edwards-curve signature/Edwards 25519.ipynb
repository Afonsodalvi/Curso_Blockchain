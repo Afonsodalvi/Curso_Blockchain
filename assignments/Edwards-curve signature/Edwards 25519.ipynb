{
 "cells": [
  {
   "cell_type": "code",
   "execution_count": 2,
   "metadata": {},
   "outputs": [
    {
     "name": "stdout",
     "output_type": "stream",
     "text": [
      "the public key is b'68c5c45e01be2aef5acb9414c78c677fcfee6bf7569f86d6c2fd1f678d1b2b56'\n"
     ]
    }
   ],
   "source": [
    "import ed25519\n",
    "signing_key, verifying_key = ed25519.create_keypair()\n",
    "open(\"my-secret-key\",\"wb\").write(signing_key.to_bytes())\n",
    "vkey_hex = verifying_key.to_ascii(encoding=\"hex\")\n",
    "print (\"the public key is\", vkey_hex)"
   ]
  },
  {
   "cell_type": "code",
   "execution_count": 4,
   "metadata": {},
   "outputs": [],
   "source": [
    "keydata = open(\"my-secret-key\",\"rb\").read()\n",
    "signing_key = ed25519.SigningKey(keydata)"
   ]
  },
  {
   "cell_type": "code",
   "execution_count": 5,
   "metadata": {},
   "outputs": [],
   "source": [
    "import os, hashlib\n",
    "master = os.urandom(87)\n",
    "seed = hashlib.sha256(master).digest()\n",
    "signing_key = ed25519.SigningKey(seed)"
   ]
  },
  {
   "cell_type": "code",
   "execution_count": 7,
   "metadata": {},
   "outputs": [
    {
     "name": "stdout",
     "output_type": "stream",
     "text": [
      "sig is: b'v340+kzFE14wZ7peWkFLVaaHbSd6X/CvZZ7xo75Qq3qcV544kBqWs0Xuy3pqyb7THWhOnaquBHHjbaOryS4jDA'\n"
     ]
    }
   ],
   "source": [
    "sig = signing_key.sign(b\"hello world\", encoding=\"base64\")\n",
    "print(\"sig is:\", sig)"
   ]
  },
  {
   "cell_type": "code",
   "execution_count": 17,
   "metadata": {},
   "outputs": [
    {
     "name": "stdout",
     "output_type": "stream",
     "text": [
      "signature is bad!\n"
     ]
    }
   ],
   "source": [
    "vkey_hex = b\"1246b84985e1ab5f83f4ec2bdf271114666fd3d9e24d12981a3c861b9ed523c6\"\n",
    "verifying_key = ed25519.VerifyingKey(vkey_hex, encoding=\"hex\")\n",
    "\n",
    "def check_sig(sig, msg, verifying_key):\n",
    "    try:\n",
    "      verifying_key.verify(sig, msg, encoding=\"base64\")\n",
    "      print(\"signature is good\")\n",
    "    except ed25519.BadSignatureError:\n",
    "      print(\"signature is bad!\")\n",
    "check_sig(sig, b\"hello world\", verifying_key)"
   ]
  },
  {
   "cell_type": "code",
   "execution_count": 21,
   "metadata": {},
   "outputs": [
    {
     "name": "stdout",
     "output_type": "stream",
     "text": [
      "signature is good\n"
     ]
    }
   ],
   "source": [
    "check_sig(sig, b\"hello world\", signing_key.get_verifying_key())"
   ]
  },
  {
   "cell_type": "code",
   "execution_count": null,
   "metadata": {},
   "outputs": [],
   "source": []
  }
 ],
 "metadata": {
  "kernelspec": {
   "display_name": "Python 3",
   "language": "python",
   "name": "python3"
  },
  "language_info": {
   "codemirror_mode": {
    "name": "ipython",
    "version": 3
   },
   "file_extension": ".py",
   "mimetype": "text/x-python",
   "name": "python",
   "nbconvert_exporter": "python",
   "pygments_lexer": "ipython3",
   "version": "3.6.6"
  }
 },
 "nbformat": 4,
 "nbformat_minor": 2
}
