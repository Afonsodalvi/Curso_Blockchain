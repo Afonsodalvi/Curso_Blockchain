{
 "cells": [
  {
   "cell_type": "markdown",
   "metadata": {
    "slideshow": {
     "slide_type": "slide"
    }
   },
   "source": [
    "<img src=\"https://cdn-images-1.medium.com/max/1200/1*cCHDhDD093-nE5lFTRGMDA.png\" width=\"100px\" align=\"left\">\n",
    "\n",
    "# Understanding Lisk's  Transactions Signing Scheme\n",
    "### Flávio Codeço Coelho"
   ]
  },
  {
   "cell_type": "code",
   "execution_count": 2,
   "metadata": {
    "slideshow": {
     "slide_type": "skip"
    }
   },
   "outputs": [],
   "source": [
    "from hashlib import sha256\n",
    "import json\n",
    "import ed25519"
   ]
  },
  {
   "cell_type": "markdown",
   "metadata": {
    "slideshow": {
     "slide_type": "slide"
    }
   },
   "source": [
    "# EdDSA\n",
    "EdDSA is a variant of Schnorr signatures. Lisk uses `ed25519` to sign off transactions. EdDSA is based on Edwards elliptic curves over a finite field:\n",
    "$$E(\\mathbb{F}_q)$$ where q is a large prime number, $$q=2^{255}-19$$"
   ]
  },
  {
   "cell_type": "markdown",
   "metadata": {
    "slideshow": {
     "slide_type": "slide"
    }
   },
   "source": [
    "## Creating a key pair\n",
    "Based on Lisk documentation about key pairs, we start from a BIP-39 passphrase: "
   ]
  },
  {
   "cell_type": "code",
   "execution_count": 3,
   "metadata": {
    "slideshow": {
     "slide_type": "fragment"
    }
   },
   "outputs": [
    {
     "data": {
      "text/plain": [
       "'77d2ad92c611e5064cf22528ffe6e9cab93a80567b8516febc9b5b7b1616acc6'"
      ]
     },
     "execution_count": 3,
     "metadata": {},
     "output_type": "execute_result"
    }
   ],
   "source": [
    "passphrase = b\"witch collapse practice feed shame open despair creek road again ice least\"\n",
    "H = sha256(passphrase)\n",
    "H.hexdigest()"
   ]
  },
  {
   "cell_type": "code",
   "execution_count": 4,
   "metadata": {
    "slideshow": {
     "slide_type": "fragment"
    }
   },
   "outputs": [
    {
     "data": {
      "text/plain": [
       "b'w\\xd2\\xad\\x92\\xc6\\x11\\xe5\\x06L\\xf2%(\\xff\\xe6\\xe9\\xca\\xb9:\\x80V{\\x85\\x16\\xfe\\xbc\\x9b[{\\x16\\x16\\xac\\xc6'"
      ]
     },
     "execution_count": 4,
     "metadata": {},
     "output_type": "execute_result"
    }
   ],
   "source": [
    "H.digest()"
   ]
  },
  {
   "cell_type": "markdown",
   "metadata": {
    "slideshow": {
     "slide_type": "fragment"
    }
   },
   "source": [
    "First the **private** key:"
   ]
  },
  {
   "cell_type": "code",
   "execution_count": 5,
   "metadata": {
    "slideshow": {
     "slide_type": "fragment"
    }
   },
   "outputs": [
    {
     "data": {
      "text/plain": [
       "b'w\\xd2\\xad\\x92\\xc6\\x11\\xe5\\x06L\\xf2%(\\xff\\xe6\\xe9\\xca\\xb9:\\x80V{\\x85\\x16\\xfe\\xbc\\x9b[{\\x16\\x16\\xac\\xc6\\xee)\"9\\xe8\\x93\\xd6\\xa8\\xbc!~\\x9d\\xafD\\xfb\\x02\\x81\\x83`b]S9{\\x9d\\xf0\\xef\\xaa\\\\c(\\xa3'"
      ]
     },
     "execution_count": 5,
     "metadata": {},
     "output_type": "execute_result"
    }
   ],
   "source": [
    "sk = ed25519.SigningKey(H.digest())\n",
    "sk.to_bytes()"
   ]
  },
  {
   "cell_type": "markdown",
   "metadata": {
    "slideshow": {
     "slide_type": "slide"
    }
   },
   "source": [
    "then the **public**:"
   ]
  },
  {
   "cell_type": "code",
   "execution_count": 6,
   "metadata": {
    "slideshow": {
     "slide_type": "fragment"
    }
   },
   "outputs": [
    {
     "data": {
      "text/plain": [
       "b'\\xee)\"9\\xe8\\x93\\xd6\\xa8\\xbc!~\\x9d\\xafD\\xfb\\x02\\x81\\x83`b]S9{\\x9d\\xf0\\xef\\xaa\\\\c(\\xa3'"
      ]
     },
     "execution_count": 6,
     "metadata": {},
     "output_type": "execute_result"
    }
   ],
   "source": [
    "vk = sk.get_verifying_key()\n",
    "vk.to_bytes()"
   ]
  },
  {
   "cell_type": "markdown",
   "metadata": {
    "slideshow": {
     "slide_type": "slide"
    }
   },
   "source": [
    "## Signing a transaction\n",
    "Let $tx$ be a fund transfer transaction (type 0 in lisk):"
   ]
  },
  {
   "cell_type": "code",
   "execution_count": 7,
   "metadata": {
    "slideshow": {
     "slide_type": "fragment"
    }
   },
   "outputs": [
    {
     "data": {
      "text/plain": [
       "'{\"type\": 0, \"amount\": 128, \"senderPublicKey\": \"Public key of the sender\", \"timestamp\": \"<Timestamp>\", \"recipientId\": \"<Id of the recipient>\", \"signature\": \"<Signature of the data block>\", \"id\": \"<txid>\", \"fee\": 10000000, \"senderId\": \"<Id of the sender>\"}'"
      ]
     },
     "execution_count": 7,
     "metadata": {},
     "output_type": "execute_result"
    }
   ],
   "source": [
    "tx = {\n",
    "    \"type\": 0,\n",
    "    \"amount\": 128,\n",
    "    \"senderPublicKey\": \"Public key of the sender\",\n",
    "    \"timestamp\": \"<Timestamp>\",\n",
    "    \"recipientId\": \"<Id of the recipient>\",\n",
    "    \"signature\": \"<Signature of the data block>\",\n",
    "    \"id\": \"<txid>\",\n",
    "    \"fee\": 10000000,\n",
    "    \"senderId\": \"<Id of the sender>\",\n",
    "}\n",
    "txJSON = json.dumps(tx)\n",
    "txJSON"
   ]
  },
  {
   "cell_type": "markdown",
   "metadata": {
    "slideshow": {
     "slide_type": "slide"
    }
   },
   "source": [
    "Let $H_{tx}$ be the SHA256 hash of the transaction block."
   ]
  },
  {
   "cell_type": "code",
   "execution_count": 8,
   "metadata": {
    "slideshow": {
     "slide_type": "fragment"
    }
   },
   "outputs": [
    {
     "data": {
      "text/plain": [
       "b'|J\\xdb\\xd5\\x88A\\xf54\\x1fI\\x9d\\x96\\xba\\xb5\\xb8\\x97\\n/\\xa2n\\x1c\\x87i\\xc3\\x99\\x02!\\xa1Q\\xf9L '"
      ]
     },
     "execution_count": 8,
     "metadata": {},
     "output_type": "execute_result"
    }
   ],
   "source": [
    "Htx = sha256(txJSON.encode('ascii'))\n",
    "Htx.digest()"
   ]
  },
  {
   "cell_type": "markdown",
   "metadata": {
    "slideshow": {
     "slide_type": "fragment"
    }
   },
   "source": [
    "Lisk then signs $H_{tx}$ using the sender keys:"
   ]
  },
  {
   "cell_type": "code",
   "execution_count": 9,
   "metadata": {
    "slideshow": {
     "slide_type": "fragment"
    }
   },
   "outputs": [
    {
     "data": {
      "text/plain": [
       "b'af835a49a385a0aaf6574395a1fc34bd868018a2cfec6f59cf14495560b2f142257fa98fabdf67cf8cd6540631befda2fbb312172286dcd9759e335be0c37b0d'"
      ]
     },
     "execution_count": 9,
     "metadata": {},
     "output_type": "execute_result"
    }
   ],
   "source": [
    "sig = sk.sign(Htx.digest(), encoding='hex')\n",
    "sig"
   ]
  },
  {
   "cell_type": "markdown",
   "metadata": {
    "slideshow": {
     "slide_type": "slide"
    }
   },
   "source": [
    "### Adding the signature to the transaction\n",
    "The signature is then added to the datablock. Ed25519 signatures are not `malleable`, meaning that for the same private key and message (Tx), there is only one valid signature."
   ]
  },
  {
   "cell_type": "code",
   "execution_count": 10,
   "metadata": {
    "slideshow": {
     "slide_type": "fragment"
    }
   },
   "outputs": [
    {
     "data": {
      "text/plain": [
       "{'type': 0,\n",
       " 'amount': 128,\n",
       " 'senderPublicKey': 'Public key of the sender',\n",
       " 'timestamp': '<Timestamp>',\n",
       " 'recipientId': '<Id of the recipient>',\n",
       " 'signature': 'af835a49a385a0aaf6574395a1fc34bd868018a2cfec6f59cf14495560b2f142257fa98fabdf67cf8cd6540631befda2fbb312172286dcd9759e335be0c37b0d',\n",
       " 'id': '<txid>',\n",
       " 'fee': 10000000,\n",
       " 'senderId': '<Id of the sender>'}"
      ]
     },
     "execution_count": 10,
     "metadata": {},
     "output_type": "execute_result"
    }
   ],
   "source": [
    "tx['signature'] = sig.decode('ascii')\n",
    "tx2JSON = json.dumps(tx)\n",
    "tx"
   ]
  },
  {
   "cell_type": "markdown",
   "metadata": {
    "slideshow": {
     "slide_type": "slide"
    }
   },
   "source": [
    "## Second signature\n",
    "If a second signature is enabled for the sender's account, the transaction can receive a second signature.\n",
    "\n",
    "Let $I_{tx}$ be the SHA256 hash of the transaction block appended with the first signature. Again we will sign $I_{tx}$ instead of the transaction block."
   ]
  },
  {
   "cell_type": "code",
   "execution_count": 11,
   "metadata": {
    "slideshow": {
     "slide_type": "fragment"
    }
   },
   "outputs": [
    {
     "data": {
      "text/plain": [
       "b'e1530a6a340ba83485de87a16ea96066c621cf95cb07b1ef07bd1e88fc95a232213855911357ea3c1a0bd863a1506d8e99022f46907114f196402cb27c7d8209'"
      ]
     },
     "execution_count": 11,
     "metadata": {},
     "output_type": "execute_result"
    }
   ],
   "source": [
    "Itx = sha256(tx2JSON.encode('ascii'))\n",
    "sig2 = sk.sign(Itx.digest(), encoding='hex')\n",
    "sig2"
   ]
  },
  {
   "cell_type": "markdown",
   "metadata": {
    "slideshow": {
     "slide_type": "fragment"
    }
   },
   "source": [
    "### Verifying"
   ]
  },
  {
   "cell_type": "code",
   "execution_count": 14,
   "metadata": {
    "slideshow": {
     "slide_type": "fragment"
    }
   },
   "outputs": [],
   "source": [
    "vk.verify(sig2,Itx.digest(),encoding='hex')"
   ]
  },
  {
   "cell_type": "markdown",
   "metadata": {
    "slideshow": {
     "slide_type": "slide"
    }
   },
   "source": [
    "## Computing the Transaction ID\n",
    "The ID of the transaction (TxID) after the second signature is computed from the SHA256 of the transaction block with the signature(s) appended. The ID is the first 8 bytes of this hash, reversed. Therefore,\n",
    "\n",
    " - TxID is unique since its based on the hash of the transaction block plus the signature(s).\n",
    " - TxID Uniqueness depends on the collision resistance of SHA256.\n",
    " - Verifying if the same ID is already present in the blockchain can prevent replay attacks (Where the exact same transaction would be re-inserted)"
   ]
  },
  {
   "cell_type": "markdown",
   "metadata": {
    "slideshow": {
     "slide_type": "slide"
    }
   },
   "source": [
    "## HashEdDSA vs PureEdDSA\n",
    "Lisk uses the Hashed version of EdDSA, where the message to be signed, is prehashed ($\\mathtt{PH}(Tx) = \\mathtt{SHA256}(Tx)$) and then signed. This has some advantages:\n",
    "\n",
    "- HashEdDSA requires only a single pass over the input ($\\mathtt{PH}(Tx)$).\n",
    "- Hashing adds collision resistance, even though PureEdDSA is resilient to collisions of the hash.\n",
    "- The RFC for Ed25519 recommends using SHA512 for prehashing, Lisk uses SHA256.\n",
    "\n",
    "and disadvantages:\n",
    "\n",
    "- Introduces potential vulnerabilities of the prehash function.\n",
    "- Not resilient to collisions\n",
    "- Requires authentication of signature scheme (Hash or Pure), to avoid cross-protocol attacks"
   ]
  }
 ],
 "metadata": {
  "celltoolbar": "Slideshow",
  "kernelspec": {
   "display_name": "Python 3",
   "language": "python",
   "name": "python3"
  },
  "language_info": {
   "codemirror_mode": {
    "name": "ipython",
    "version": 3
   },
   "file_extension": ".py",
   "mimetype": "text/x-python",
   "name": "python",
   "nbconvert_exporter": "python",
   "pygments_lexer": "ipython3",
   "version": "3.6.7"
  }
 },
 "nbformat": 4,
 "nbformat_minor": 2
}
