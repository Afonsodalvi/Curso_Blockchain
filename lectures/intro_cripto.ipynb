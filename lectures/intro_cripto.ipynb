{
 "cells": [
  {
   "cell_type": "markdown",
   "metadata": {},
   "source": [
    "# Introdução à criptografia e às funções Hash\n",
    "\n",
    "As criptomoedas, como o Bitcoin, utilizam-se de tecnologias criptográficas como criptografia de chave publica,e funções de Hash. Neste notebook vamos nos familiarizar com estes conceitos que nos serão úteis em nosso estudo da bitcoin e outras criptomoedas.\n",
    "\n",
    "## Criptografia com curvas elípticas\n",
    "\n",
    "A Bitcoin se utiliza de curvas elípticas para suas necessidades criptográficas. Mais precisamente, utiliza o algoritmo de assinatura digital por curvas elipticas (ECDSA). A ECDSA envolve três componentes principais: uma chave pública, uma chave privada e assinatura.\n",
    "\n",
    "A Bitcoin usa uma curva elíptica específica chamada [secp256k1](https://bitcoin.stackexchange.com/questions/21907/what-does-the-curve-used-in-bitcoin-secp256k1-look-like). A função em si parece inofensiva: $y^2=x^3+7$ porém esta função não é definida sobre os números reais, mas sobre um campo de números primos: mais precisamente ${\\cal Z}$ modulo $2^{256} - 2^{32} - 977$. Para um maior aprofundamento sobre a utilização de curvas elítpicas em criptografia leia [este material](http://andrea.corbellini.name/2015/05/17/elliptic-curve-cryptography-a-gentle-introduction/).\n",
    "\n",
    "## Encriptando textos\n",
    "\n",
    "a forma mais simples de criptografia é a aquel que, se utilizando de uma chave gerada aleatóriamente, converte um texto puro em um texto encriptado. então de posse da mesma chave é possível inverter a operação, recuperando o texto original. Quando falamos em texto aqui estamos falando apenas de uma aplicação possível de criptografia. Na verdade o que será aplicado aqui para textos, pode ser aplicado para qualquer sequencia de bytes, ou seja para qualquer objeto digital."
   ]
  },
  {
   "cell_type": "code",
   "execution_count": 6,
   "metadata": {
    "collapsed": true
   },
   "outputs": [],
   "source": [
    "from Crypto.Cipher import DES3\n",
    "from Crypto import Random"
   ]
  },
  {
   "cell_type": "markdown",
   "metadata": {},
   "source": [
    "Neste exemplo vamos usar o algoritmo conhecido como \"triplo DES\" para encriptar e desencriptar um texto. Para este exemplo a chave deve ter um comprimento múltiplo de 8 bytes."
   ]
  },
  {
   "cell_type": "code",
   "execution_count": 7,
   "metadata": {},
   "outputs": [],
   "source": [
    "chave = b\"chave secreta um\"\n",
    "sal = Random.get_random_bytes(8)\n",
    "des3 = DES3.new(chave, DES3.MODE_CFB, sal)"
   ]
  },
  {
   "cell_type": "markdown",
   "metadata": {},
   "source": [
    "Note que adicionamos sal à ao nosso encriptador. o \"sal\" é uma sequência aleatória de bytes feitar para dificultar ataques."
   ]
  },
  {
   "cell_type": "code",
   "execution_count": 9,
   "metadata": {},
   "outputs": [
    {
     "data": {
      "text/plain": [
       "b'\\xf3\\xa70I\\xe1\\x8bw\\xb9=*\\xe2\\t\\xda\\xab\\x16\\x9e\\xf1qK\\xa9\\xe3~\\r\\xda\\xca\\xf8\\xd1\\x18\\xaf\\xf9O!\\x83]D\\xb5t\\xec\\t=qk\\xcd\\xe1\\xbc\\t\\x14\\xeb~\\x95\\xf6\\x03\\xf0<\\xda\\xe3\\xef\\xd5\\xcb\\x81\\x00$\\xe0\\xc9\\xb9\\x93\\x94\\xdcmb$>\\x92\\x82\\x19 \\xe8\\xc7[\\r\\x7f\\xa9\\x14N\\x7f|\\x00\\xaeu1\\r\\xa1cvP\\xf8\\xdaa\\xfc\\x1c'"
      ]
     },
     "execution_count": 9,
     "metadata": {},
     "output_type": "execute_result"
    }
   ],
   "source": [
    "texto = b\"Este e um texto super secreto que precisa ser protegido a qualquer custo de olhares nao autorizados.\"\n",
    "enc = des3.encrypt(texto)\n",
    "enc"
   ]
  },
  {
   "cell_type": "code",
   "execution_count": 12,
   "metadata": {},
   "outputs": [
    {
     "data": {
      "text/plain": [
       "b'Este e um texto super secreto que precisa ser protegido a qualquer custo de olhares nao autorizados.'"
      ]
     },
     "execution_count": 12,
     "metadata": {},
     "output_type": "execute_result"
    }
   ],
   "source": [
    "des3 = DES3.new(chave, DES3.MODE_CFB, sal)\n",
    "des3.decrypt(enc)"
   ]
  },
  {
   "cell_type": "markdown",
   "metadata": {},
   "source": [
    "Um dos problemas com esta metodologia de encriptação, é que se você deseja enviar este arquivo encriptado a um amigo, terá que encontrar uma forma segura de lhe transmitir a chave, caso contrário um inimigo mal intencionado poderá desencriptar sua mensagem de posse da chave. Para resolver este problema introduzimos um novo métodos de encriptação:\n",
    "\n",
    "## Criptografia de chave pública\n",
    "\n",
    "Nesta metodologia temos duas chaves: uma pública e outra privada."
   ]
  },
  {
   "cell_type": "code",
   "execution_count": 13,
   "metadata": {
    "collapsed": true
   },
   "outputs": [],
   "source": [
    "from Crypto.PublicKey import RSA"
   ]
  },
  {
   "cell_type": "code",
   "execution_count": 15,
   "metadata": {},
   "outputs": [],
   "source": [
    "senha = \"minha chave super secreta.\"\n",
    "key = RSA.generate(2048)\n",
    "chave_privada = key.exportKey(passphrase=senha, pkcs=8, \n",
    "        protection=\"scryptAndAES128-CBC\")"
   ]
  },
  {
   "cell_type": "code",
   "execution_count": 18,
   "metadata": {},
   "outputs": [
    {
     "data": {
      "text/plain": [
       "b'-----BEGIN RSA PUBLIC KEY-----\\nMIIBIjANBgkqhkiG9w0BAQEFAAOCAQ8AMIIBCgKCAQEAsAu2L4frqpum4KlTifXn\\npYitLwjr3lcWFlYHXItnYfP2G5i9adhMPkJEeoWURgf76wwtllNdDlP4XITVLkLC\\ndvSRuq/ODQDt9t+/inprp/fVyaIW+D73plJN6pvijtB+qJDxDPxqRrEVvz0sKskX\\nqTSRK8cl6JNlgc5uChpqff22P5sTV8mZMvQDOYBTDdyA8TCi3oePv2EN+FJ05382\\neWqPWOhugfm6lRWxkQ+fTdp2aALbBt6/21WJUqhau1hvZ8ntzFyBSvvYWBQIc5g6\\n2eRfJai4iQGc6njHQAkFATzY2WJksNyEdyzcyOOaWB9mm5LTeOY+uvfKrfKde39G\\noQIDAQAB\\n-----END RSA PUBLIC KEY-----'"
      ]
     },
     "execution_count": 18,
     "metadata": {},
     "output_type": "execute_result"
    }
   ],
   "source": [
    "publica = key.publickey().exportKey()"
   ]
  },
  {
   "cell_type": "code",
   "execution_count": null,
   "metadata": {},
   "outputs": [],
   "source": [
    ""
   ]
  },
  {
   "cell_type": "code",
   "execution_count": null,
   "metadata": {
    "collapsed": true
   },
   "outputs": [],
   "source": [
    ""
   ]
  }
 ],
 "metadata": {
  "celltoolbar": "Raw Cell Format",
  "kernelspec": {
   "display_name": "Python 3",
   "language": "python",
   "name": "python3"
  },
  "language_info": {
   "codemirror_mode": {
    "name": "ipython",
    "version": 3.0
   },
   "file_extension": ".py",
   "mimetype": "text/x-python",
   "name": "python",
   "nbconvert_exporter": "python",
   "pygments_lexer": "ipython3",
   "version": "3.5.2"
  }
 },
 "nbformat": 4,
 "nbformat_minor": 0
}