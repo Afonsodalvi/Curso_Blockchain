{
 "cells": [
  {
   "cell_type": "markdown",
   "metadata": {},
   "source": [
    "# O Bitcoin e seu funcionamento\n",
    "O Bitcoin é a primeira forma de dinheiro digital descentralizado a ganhar popularidade. Devido ao seu design inivador, 10 anos após a sua criação continua a ser a criptomoeda de maior expresão no mercado respondendo por cerca de 50% de todo o volume de transações do mercado de criptomoedas."
   ]
  },
  {
   "cell_type": "code",
   "execution_count": 1,
   "metadata": {
    "collapsed": true,
    "extensions": {
     "jupyter_dashboards": {
      "version": 1,
      "views": {
       "grid_default": {
        "hidden": true
       },
       "report_default": {}
      }
     }
    }
   },
   "outputs": [],
   "source": [
    "from bitcoin import *"
   ]
  },
  {
   "cell_type": "markdown",
   "metadata": {
    "extensions": {
     "jupyter_dashboards": {
      "version": 1,
      "views": {
       "grid_default": {
        "col": 0,
        "height": 7,
        "hidden": false,
        "row": 0,
        "width": 12
       },
       "report_default": {}
      }
     }
    }
   },
   "source": [
    "# Interagindo com a tecnologia da Bitcoin\n",
    "\n",
    "Neste notebook vamos utilizar algumas ferramentas já disponíveis na linguagem Python para explorar o funcionamento da Bitcoin. Certifique-se de estar usando pelo menos a versão 3.5 do Python antes de começar. Os pacotes Python necessários estão listados no arquivo `requirements.txt` na raiz deste repositório. Para instalá-los basta executar o seguinte comando:\n",
    "```\n",
    "pip3 install -r requirements.txt\n",
    "```"
   ]
  },
  {
   "cell_type": "markdown",
   "metadata": {
    "extensions": {
     "jupyter_dashboards": {
      "version": 1,
      "views": {
       "grid_default": {
        "hidden": true
       },
       "report_default": {}
      }
     }
    }
   },
   "source": [
    "## Entendendo os endereços\n",
    "\n",
    "vamos começar criando uma chave privada. Na bitcoin, a chave privada é apenas um número inteiro de 256 bits. Logo utilizaremos uma função Hash para gerar este número a partir de uma frase-senha. Mais adiante vamos explorar melhor as funções Hash, por ora basta saber que esta função mapeia qualquer input para um números de 256 bits. Logo, o tamanho do conjunto imagem é $2^{255}$."
   ]
  },
  {
   "cell_type": "code",
   "execution_count": 2,
   "metadata": {},
   "outputs": [
    {
     "data": {
      "text/plain": [
       "'57c617d9b4e1f7af6ec97ca2ff57e94a28279a7eedd4d12a99fa11170e94f5a4'"
      ]
     },
     "execution_count": 2,
     "metadata": {},
     "output_type": "execute_result"
    }
   ],
   "source": [
    "priv = sha256('some big long brainwallet password')\n",
    "priv"
   ]
  },
  {
   "cell_type": "markdown",
   "metadata": {},
   "source": [
    "A chave pública pode ser calculada a partir da chave privada, mas o contrário não é verdadeiro."
   ]
  },
  {
   "cell_type": "code",
   "execution_count": 3,
   "metadata": {},
   "outputs": [
    {
     "data": {
      "text/plain": [
       "'0420f34c2786b4bae593e22596631b025f3ff46e200fc1d4b52ef49bbdc2ed00b26c584b7e32523fb01be2294a1f8a5eb0cf71a203cc034ced46ea92a8df16c6e9'"
      ]
     },
     "execution_count": 3,
     "metadata": {},
     "output_type": "execute_result"
    }
   ],
   "source": [
    "pub = privtopub(priv)\n",
    "pub"
   ]
  },
  {
   "cell_type": "markdown",
   "metadata": {},
   "source": [
    "Vamos tentar entender como a chave pública é gerada a partir da chave privada."
   ]
  },
  {
   "cell_type": "code",
   "execution_count": 4,
   "metadata": {
    "collapsed": true
   },
   "outputs": [
    {
     "data": {
      "text/plain": [
       "\u001b[0;31mSignature:\u001b[0m \u001b[0mprivtopub\u001b[0m\u001b[0;34m(\u001b[0m\u001b[0mprivkey\u001b[0m\u001b[0;34m)\u001b[0m\u001b[0;34m\u001b[0m\u001b[0m\n",
       "\u001b[0;31mDocstring:\u001b[0m <no docstring>\n",
       "\u001b[0;31mSource:\u001b[0m   \n",
       "\u001b[0;32mdef\u001b[0m \u001b[0mprivkey_to_pubkey\u001b[0m\u001b[0;34m(\u001b[0m\u001b[0mprivkey\u001b[0m\u001b[0;34m)\u001b[0m\u001b[0;34m:\u001b[0m\u001b[0;34m\u001b[0m\n",
       "\u001b[0;34m\u001b[0m    \u001b[0mf\u001b[0m \u001b[0;34m=\u001b[0m \u001b[0mget_privkey_format\u001b[0m\u001b[0;34m(\u001b[0m\u001b[0mprivkey\u001b[0m\u001b[0;34m)\u001b[0m\u001b[0;34m\u001b[0m\n",
       "\u001b[0;34m\u001b[0m    \u001b[0mprivkey\u001b[0m \u001b[0;34m=\u001b[0m \u001b[0mdecode_privkey\u001b[0m\u001b[0;34m(\u001b[0m\u001b[0mprivkey\u001b[0m\u001b[0;34m,\u001b[0m \u001b[0mf\u001b[0m\u001b[0;34m)\u001b[0m\u001b[0;34m\u001b[0m\n",
       "\u001b[0;34m\u001b[0m    \u001b[0;32mif\u001b[0m \u001b[0mprivkey\u001b[0m \u001b[0;34m>=\u001b[0m \u001b[0mN\u001b[0m\u001b[0;34m:\u001b[0m\u001b[0;34m\u001b[0m\n",
       "\u001b[0;34m\u001b[0m        \u001b[0;32mraise\u001b[0m \u001b[0mException\u001b[0m\u001b[0;34m(\u001b[0m\u001b[0;34m\"Invalid privkey\"\u001b[0m\u001b[0;34m)\u001b[0m\u001b[0;34m\u001b[0m\n",
       "\u001b[0;34m\u001b[0m    \u001b[0;32mif\u001b[0m \u001b[0mf\u001b[0m \u001b[0;32min\u001b[0m \u001b[0;34m[\u001b[0m\u001b[0;34m'bin'\u001b[0m\u001b[0;34m,\u001b[0m \u001b[0;34m'bin_compressed'\u001b[0m\u001b[0;34m,\u001b[0m \u001b[0;34m'hex'\u001b[0m\u001b[0;34m,\u001b[0m \u001b[0;34m'hex_compressed'\u001b[0m\u001b[0;34m,\u001b[0m \u001b[0;34m'decimal'\u001b[0m\u001b[0;34m]\u001b[0m\u001b[0;34m:\u001b[0m\u001b[0;34m\u001b[0m\n",
       "\u001b[0;34m\u001b[0m        \u001b[0;32mreturn\u001b[0m \u001b[0mencode_pubkey\u001b[0m\u001b[0;34m(\u001b[0m\u001b[0mfast_multiply\u001b[0m\u001b[0;34m(\u001b[0m\u001b[0mG\u001b[0m\u001b[0;34m,\u001b[0m \u001b[0mprivkey\u001b[0m\u001b[0;34m)\u001b[0m\u001b[0;34m,\u001b[0m \u001b[0mf\u001b[0m\u001b[0;34m)\u001b[0m\u001b[0;34m\u001b[0m\n",
       "\u001b[0;34m\u001b[0m    \u001b[0;32melse\u001b[0m\u001b[0;34m:\u001b[0m\u001b[0;34m\u001b[0m\n",
       "\u001b[0;34m\u001b[0m        \u001b[0;32mreturn\u001b[0m \u001b[0mencode_pubkey\u001b[0m\u001b[0;34m(\u001b[0m\u001b[0mfast_multiply\u001b[0m\u001b[0;34m(\u001b[0m\u001b[0mG\u001b[0m\u001b[0;34m,\u001b[0m \u001b[0mprivkey\u001b[0m\u001b[0;34m)\u001b[0m\u001b[0;34m,\u001b[0m \u001b[0mf\u001b[0m\u001b[0;34m.\u001b[0m\u001b[0mreplace\u001b[0m\u001b[0;34m(\u001b[0m\u001b[0;34m'wif'\u001b[0m\u001b[0;34m,\u001b[0m \u001b[0;34m'hex'\u001b[0m\u001b[0;34m)\u001b[0m\u001b[0;34m)\u001b[0m\u001b[0;34m\u001b[0m\u001b[0m\n",
       "\u001b[0;31mFile:\u001b[0m      /usr/local/lib/python3.6/dist-packages/bitcoin/main.py\n",
       "\u001b[0;31mType:\u001b[0m      function\n"
      ]
     },
     "metadata": {},
     "output_type": "display_data"
    }
   ],
   "source": [
    "privtopub??"
   ]
  },
  {
   "cell_type": "markdown",
   "metadata": {},
   "source": [
    "cada par de chaves pública e privada correspondem a um endereço na blockchain da Bitcoin: Também chamado de uma carteira. O endereço é basicamente uma \"abreviação\" da chave pública, por meio da aplicação de uma segunda hash function, a RIPEMD-160 sobre a chave pública. Isto é feito para que o endereço seja mais \"curto\"."
   ]
  },
  {
   "cell_type": "code",
   "execution_count": 5,
   "metadata": {},
   "outputs": [
    {
     "data": {
      "text/plain": [
       "'1CQLd3bhw4EzaURHbKCwM5YZbUQfA4ReY6'"
      ]
     },
     "execution_count": 5,
     "metadata": {},
     "output_type": "execute_result"
    }
   ],
   "source": [
    "end = pubtoaddr(pub)\n",
    "end"
   ]
  },
  {
   "cell_type": "markdown",
   "metadata": {},
   "source": [
    "vamos verificar o histórico de transações desta carteira"
   ]
  },
  {
   "cell_type": "code",
   "execution_count": 6,
   "metadata": {},
   "outputs": [
    {
     "data": {
      "text/plain": [
       "[{'address': '1CQLd3bhw4EzaURHbKCwM5YZbUQfA4ReY6',\n",
       "  'value': 500000,\n",
       "  'output': 'b0aad2e5184099b20d53100a678e9bec2eab1b0710fb06930f333387492a82b3:0',\n",
       "  'block_height': 363957,\n",
       "  'spend': '05551814576ba084a0736abd8df411061c5ea7e4ae72d334317f5504f6b331d6:0'},\n",
       " {'address': '1CQLd3bhw4EzaURHbKCwM5YZbUQfA4ReY6',\n",
       "  'value': 50000,\n",
       "  'output': '97f7c7d8ac85e40c255f8a763b6cd9a68f3a94d2e93e8bfa08f977b92e55465e:0',\n",
       "  'block_height': 262537,\n",
       "  'spend': '772bebdf445d719d90d52a3029d27e90aa8f26eca8d431fc77cc487c377a89c4:0'},\n",
       " {'address': '1CQLd3bhw4EzaURHbKCwM5YZbUQfA4ReY6',\n",
       "  'value': 50000,\n",
       "  'output': '4cc806bb04f730c445c60b3e0f4f44b54769a1c196ca37d8d4002135e4abd171:1',\n",
       "  'block_height': 262537,\n",
       "  'spend': '772bebdf445d719d90d52a3029d27e90aa8f26eca8d431fc77cc487c377a89c4:1'}]"
      ]
     },
     "execution_count": 6,
     "metadata": {},
     "output_type": "execute_result"
    }
   ],
   "source": [
    "h = history(end)\n",
    "h"
   ]
  },
  {
   "cell_type": "code",
   "execution_count": 6,
   "metadata": {
    "collapsed": true
   },
   "outputs": [],
   "source": [
    "history??"
   ]
  },
  {
   "cell_type": "code",
   "execution_count": null,
   "metadata": {
    "collapsed": true
   },
   "outputs": [],
   "source": []
  }
 ],
 "metadata": {
  "extensions": {
   "jupyter_dashboards": {
    "activeView": "grid_default",
    "version": 1,
    "views": {
     "grid_default": {
      "cellMargin": 10,
      "defaultCellHeight": 20,
      "maxColumns": 12,
      "name": "grid",
      "type": "grid"
     },
     "report_default": {
      "name": "report",
      "type": "report"
     }
    }
   }
  },
  "kernelspec": {
   "display_name": "Python 3",
   "language": "python",
   "name": "python3"
  },
  "language_info": {
   "codemirror_mode": {
    "name": "ipython",
    "version": 3
   },
   "file_extension": ".py",
   "mimetype": "text/x-python",
   "name": "python",
   "nbconvert_exporter": "python",
   "pygments_lexer": "ipython3",
   "version": "3.6.5"
  }
 },
 "nbformat": 4,
 "nbformat_minor": 2
}
